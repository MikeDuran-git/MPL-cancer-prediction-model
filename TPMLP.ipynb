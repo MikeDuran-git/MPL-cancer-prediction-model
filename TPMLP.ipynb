{
 "cells": [
  {
   "cell_type": "markdown",
   "metadata": {
    "id": "T6fOQNtV5-DA"
   },
   "source": [
    "# Building MLP model from scratch:"
   ]
  },
  {
   "cell_type": "markdown",
   "metadata": {},
   "source": [
    "# Libraries"
   ]
  },
  {
   "cell_type": "code",
   "execution_count": 55,
   "metadata": {
    "id": "IpSBpYwc7qKO"
   },
   "outputs": [],
   "source": [
    "import random\n",
    "import seaborn\n",
    "import numpy as np\n",
    "import pandas as pd\n",
    "import matplotlib.pyplot as plt\n",
    "import matplotlib.cm as cm\n",
    "import random\n",
    "from tqdm import tqdm\n",
    "seaborn.set(style='whitegrid'); seaborn.set_context('talk')\n",
    "%matplotlib inline\n",
    "%config InlineBackend.figure_format = 'retina'\n",
    "from sklearn.datasets import load_breast_cancer\n",
    "from sklearn.model_selection import train_test_split"
   ]
  },
  {
   "cell_type": "markdown",
   "metadata": {},
   "source": [
    "# Create MLP"
   ]
  },
  {
   "cell_type": "markdown",
   "metadata": {},
   "source": [
    "Step 1: Initialize the weights and bias with small-randomized values\n",
    "\n",
    "Step 2: Propagate all values in the input layer until output layer(Forward Propagation)\n",
    "\n",
    "Step 3: Update weight and bias in the inner layers(Backpropagation)\n",
    "\n",
    "Step 4: Do it until that the stop criterion is satisfied !"
   ]
  },
  {
   "cell_type": "code",
   "execution_count": 2,
   "metadata": {},
   "outputs": [
    {
     "data": {
      "text/html": [
       "<div>\n",
       "<style scoped>\n",
       "    .dataframe tbody tr th:only-of-type {\n",
       "        vertical-align: middle;\n",
       "    }\n",
       "\n",
       "    .dataframe tbody tr th {\n",
       "        vertical-align: top;\n",
       "    }\n",
       "\n",
       "    .dataframe thead th {\n",
       "        text-align: right;\n",
       "    }\n",
       "</style>\n",
       "<table border=\"1\" class=\"dataframe\">\n",
       "  <thead>\n",
       "    <tr style=\"text-align: right;\">\n",
       "      <th></th>\n",
       "      <th>mean radius</th>\n",
       "      <th>mean texture</th>\n",
       "      <th>mean perimeter</th>\n",
       "      <th>mean area</th>\n",
       "      <th>mean smoothness</th>\n",
       "      <th>mean compactness</th>\n",
       "      <th>mean concavity</th>\n",
       "      <th>mean concave points</th>\n",
       "      <th>mean symmetry</th>\n",
       "      <th>mean fractal dimension</th>\n",
       "      <th>...</th>\n",
       "      <th>worst texture</th>\n",
       "      <th>worst perimeter</th>\n",
       "      <th>worst area</th>\n",
       "      <th>worst smoothness</th>\n",
       "      <th>worst compactness</th>\n",
       "      <th>worst concavity</th>\n",
       "      <th>worst concave points</th>\n",
       "      <th>worst symmetry</th>\n",
       "      <th>worst fractal dimension</th>\n",
       "      <th>target</th>\n",
       "    </tr>\n",
       "  </thead>\n",
       "  <tbody>\n",
       "    <tr>\n",
       "      <th>0</th>\n",
       "      <td>17.99</td>\n",
       "      <td>10.38</td>\n",
       "      <td>122.80</td>\n",
       "      <td>1001.0</td>\n",
       "      <td>0.11840</td>\n",
       "      <td>0.27760</td>\n",
       "      <td>0.30010</td>\n",
       "      <td>0.14710</td>\n",
       "      <td>0.2419</td>\n",
       "      <td>0.07871</td>\n",
       "      <td>...</td>\n",
       "      <td>17.33</td>\n",
       "      <td>184.60</td>\n",
       "      <td>2019.0</td>\n",
       "      <td>0.16220</td>\n",
       "      <td>0.66560</td>\n",
       "      <td>0.7119</td>\n",
       "      <td>0.2654</td>\n",
       "      <td>0.4601</td>\n",
       "      <td>0.11890</td>\n",
       "      <td>0.0</td>\n",
       "    </tr>\n",
       "    <tr>\n",
       "      <th>1</th>\n",
       "      <td>20.57</td>\n",
       "      <td>17.77</td>\n",
       "      <td>132.90</td>\n",
       "      <td>1326.0</td>\n",
       "      <td>0.08474</td>\n",
       "      <td>0.07864</td>\n",
       "      <td>0.08690</td>\n",
       "      <td>0.07017</td>\n",
       "      <td>0.1812</td>\n",
       "      <td>0.05667</td>\n",
       "      <td>...</td>\n",
       "      <td>23.41</td>\n",
       "      <td>158.80</td>\n",
       "      <td>1956.0</td>\n",
       "      <td>0.12380</td>\n",
       "      <td>0.18660</td>\n",
       "      <td>0.2416</td>\n",
       "      <td>0.1860</td>\n",
       "      <td>0.2750</td>\n",
       "      <td>0.08902</td>\n",
       "      <td>0.0</td>\n",
       "    </tr>\n",
       "    <tr>\n",
       "      <th>2</th>\n",
       "      <td>19.69</td>\n",
       "      <td>21.25</td>\n",
       "      <td>130.00</td>\n",
       "      <td>1203.0</td>\n",
       "      <td>0.10960</td>\n",
       "      <td>0.15990</td>\n",
       "      <td>0.19740</td>\n",
       "      <td>0.12790</td>\n",
       "      <td>0.2069</td>\n",
       "      <td>0.05999</td>\n",
       "      <td>...</td>\n",
       "      <td>25.53</td>\n",
       "      <td>152.50</td>\n",
       "      <td>1709.0</td>\n",
       "      <td>0.14440</td>\n",
       "      <td>0.42450</td>\n",
       "      <td>0.4504</td>\n",
       "      <td>0.2430</td>\n",
       "      <td>0.3613</td>\n",
       "      <td>0.08758</td>\n",
       "      <td>0.0</td>\n",
       "    </tr>\n",
       "    <tr>\n",
       "      <th>3</th>\n",
       "      <td>11.42</td>\n",
       "      <td>20.38</td>\n",
       "      <td>77.58</td>\n",
       "      <td>386.1</td>\n",
       "      <td>0.14250</td>\n",
       "      <td>0.28390</td>\n",
       "      <td>0.24140</td>\n",
       "      <td>0.10520</td>\n",
       "      <td>0.2597</td>\n",
       "      <td>0.09744</td>\n",
       "      <td>...</td>\n",
       "      <td>26.50</td>\n",
       "      <td>98.87</td>\n",
       "      <td>567.7</td>\n",
       "      <td>0.20980</td>\n",
       "      <td>0.86630</td>\n",
       "      <td>0.6869</td>\n",
       "      <td>0.2575</td>\n",
       "      <td>0.6638</td>\n",
       "      <td>0.17300</td>\n",
       "      <td>0.0</td>\n",
       "    </tr>\n",
       "    <tr>\n",
       "      <th>4</th>\n",
       "      <td>20.29</td>\n",
       "      <td>14.34</td>\n",
       "      <td>135.10</td>\n",
       "      <td>1297.0</td>\n",
       "      <td>0.10030</td>\n",
       "      <td>0.13280</td>\n",
       "      <td>0.19800</td>\n",
       "      <td>0.10430</td>\n",
       "      <td>0.1809</td>\n",
       "      <td>0.05883</td>\n",
       "      <td>...</td>\n",
       "      <td>16.67</td>\n",
       "      <td>152.20</td>\n",
       "      <td>1575.0</td>\n",
       "      <td>0.13740</td>\n",
       "      <td>0.20500</td>\n",
       "      <td>0.4000</td>\n",
       "      <td>0.1625</td>\n",
       "      <td>0.2364</td>\n",
       "      <td>0.07678</td>\n",
       "      <td>0.0</td>\n",
       "    </tr>\n",
       "    <tr>\n",
       "      <th>...</th>\n",
       "      <td>...</td>\n",
       "      <td>...</td>\n",
       "      <td>...</td>\n",
       "      <td>...</td>\n",
       "      <td>...</td>\n",
       "      <td>...</td>\n",
       "      <td>...</td>\n",
       "      <td>...</td>\n",
       "      <td>...</td>\n",
       "      <td>...</td>\n",
       "      <td>...</td>\n",
       "      <td>...</td>\n",
       "      <td>...</td>\n",
       "      <td>...</td>\n",
       "      <td>...</td>\n",
       "      <td>...</td>\n",
       "      <td>...</td>\n",
       "      <td>...</td>\n",
       "      <td>...</td>\n",
       "      <td>...</td>\n",
       "      <td>...</td>\n",
       "    </tr>\n",
       "    <tr>\n",
       "      <th>564</th>\n",
       "      <td>21.56</td>\n",
       "      <td>22.39</td>\n",
       "      <td>142.00</td>\n",
       "      <td>1479.0</td>\n",
       "      <td>0.11100</td>\n",
       "      <td>0.11590</td>\n",
       "      <td>0.24390</td>\n",
       "      <td>0.13890</td>\n",
       "      <td>0.1726</td>\n",
       "      <td>0.05623</td>\n",
       "      <td>...</td>\n",
       "      <td>26.40</td>\n",
       "      <td>166.10</td>\n",
       "      <td>2027.0</td>\n",
       "      <td>0.14100</td>\n",
       "      <td>0.21130</td>\n",
       "      <td>0.4107</td>\n",
       "      <td>0.2216</td>\n",
       "      <td>0.2060</td>\n",
       "      <td>0.07115</td>\n",
       "      <td>0.0</td>\n",
       "    </tr>\n",
       "    <tr>\n",
       "      <th>565</th>\n",
       "      <td>20.13</td>\n",
       "      <td>28.25</td>\n",
       "      <td>131.20</td>\n",
       "      <td>1261.0</td>\n",
       "      <td>0.09780</td>\n",
       "      <td>0.10340</td>\n",
       "      <td>0.14400</td>\n",
       "      <td>0.09791</td>\n",
       "      <td>0.1752</td>\n",
       "      <td>0.05533</td>\n",
       "      <td>...</td>\n",
       "      <td>38.25</td>\n",
       "      <td>155.00</td>\n",
       "      <td>1731.0</td>\n",
       "      <td>0.11660</td>\n",
       "      <td>0.19220</td>\n",
       "      <td>0.3215</td>\n",
       "      <td>0.1628</td>\n",
       "      <td>0.2572</td>\n",
       "      <td>0.06637</td>\n",
       "      <td>0.0</td>\n",
       "    </tr>\n",
       "    <tr>\n",
       "      <th>566</th>\n",
       "      <td>16.60</td>\n",
       "      <td>28.08</td>\n",
       "      <td>108.30</td>\n",
       "      <td>858.1</td>\n",
       "      <td>0.08455</td>\n",
       "      <td>0.10230</td>\n",
       "      <td>0.09251</td>\n",
       "      <td>0.05302</td>\n",
       "      <td>0.1590</td>\n",
       "      <td>0.05648</td>\n",
       "      <td>...</td>\n",
       "      <td>34.12</td>\n",
       "      <td>126.70</td>\n",
       "      <td>1124.0</td>\n",
       "      <td>0.11390</td>\n",
       "      <td>0.30940</td>\n",
       "      <td>0.3403</td>\n",
       "      <td>0.1418</td>\n",
       "      <td>0.2218</td>\n",
       "      <td>0.07820</td>\n",
       "      <td>0.0</td>\n",
       "    </tr>\n",
       "    <tr>\n",
       "      <th>567</th>\n",
       "      <td>20.60</td>\n",
       "      <td>29.33</td>\n",
       "      <td>140.10</td>\n",
       "      <td>1265.0</td>\n",
       "      <td>0.11780</td>\n",
       "      <td>0.27700</td>\n",
       "      <td>0.35140</td>\n",
       "      <td>0.15200</td>\n",
       "      <td>0.2397</td>\n",
       "      <td>0.07016</td>\n",
       "      <td>...</td>\n",
       "      <td>39.42</td>\n",
       "      <td>184.60</td>\n",
       "      <td>1821.0</td>\n",
       "      <td>0.16500</td>\n",
       "      <td>0.86810</td>\n",
       "      <td>0.9387</td>\n",
       "      <td>0.2650</td>\n",
       "      <td>0.4087</td>\n",
       "      <td>0.12400</td>\n",
       "      <td>0.0</td>\n",
       "    </tr>\n",
       "    <tr>\n",
       "      <th>568</th>\n",
       "      <td>7.76</td>\n",
       "      <td>24.54</td>\n",
       "      <td>47.92</td>\n",
       "      <td>181.0</td>\n",
       "      <td>0.05263</td>\n",
       "      <td>0.04362</td>\n",
       "      <td>0.00000</td>\n",
       "      <td>0.00000</td>\n",
       "      <td>0.1587</td>\n",
       "      <td>0.05884</td>\n",
       "      <td>...</td>\n",
       "      <td>30.37</td>\n",
       "      <td>59.16</td>\n",
       "      <td>268.6</td>\n",
       "      <td>0.08996</td>\n",
       "      <td>0.06444</td>\n",
       "      <td>0.0000</td>\n",
       "      <td>0.0000</td>\n",
       "      <td>0.2871</td>\n",
       "      <td>0.07039</td>\n",
       "      <td>1.0</td>\n",
       "    </tr>\n",
       "  </tbody>\n",
       "</table>\n",
       "<p>569 rows × 31 columns</p>\n",
       "</div>"
      ],
      "text/plain": [
       "     mean radius  mean texture  mean perimeter  mean area  mean smoothness  \\\n",
       "0          17.99         10.38          122.80     1001.0          0.11840   \n",
       "1          20.57         17.77          132.90     1326.0          0.08474   \n",
       "2          19.69         21.25          130.00     1203.0          0.10960   \n",
       "3          11.42         20.38           77.58      386.1          0.14250   \n",
       "4          20.29         14.34          135.10     1297.0          0.10030   \n",
       "..           ...           ...             ...        ...              ...   \n",
       "564        21.56         22.39          142.00     1479.0          0.11100   \n",
       "565        20.13         28.25          131.20     1261.0          0.09780   \n",
       "566        16.60         28.08          108.30      858.1          0.08455   \n",
       "567        20.60         29.33          140.10     1265.0          0.11780   \n",
       "568         7.76         24.54           47.92      181.0          0.05263   \n",
       "\n",
       "     mean compactness  mean concavity  mean concave points  mean symmetry  \\\n",
       "0             0.27760         0.30010              0.14710         0.2419   \n",
       "1             0.07864         0.08690              0.07017         0.1812   \n",
       "2             0.15990         0.19740              0.12790         0.2069   \n",
       "3             0.28390         0.24140              0.10520         0.2597   \n",
       "4             0.13280         0.19800              0.10430         0.1809   \n",
       "..                ...             ...                  ...            ...   \n",
       "564           0.11590         0.24390              0.13890         0.1726   \n",
       "565           0.10340         0.14400              0.09791         0.1752   \n",
       "566           0.10230         0.09251              0.05302         0.1590   \n",
       "567           0.27700         0.35140              0.15200         0.2397   \n",
       "568           0.04362         0.00000              0.00000         0.1587   \n",
       "\n",
       "     mean fractal dimension  ...  worst texture  worst perimeter  worst area  \\\n",
       "0                   0.07871  ...          17.33           184.60      2019.0   \n",
       "1                   0.05667  ...          23.41           158.80      1956.0   \n",
       "2                   0.05999  ...          25.53           152.50      1709.0   \n",
       "3                   0.09744  ...          26.50            98.87       567.7   \n",
       "4                   0.05883  ...          16.67           152.20      1575.0   \n",
       "..                      ...  ...            ...              ...         ...   \n",
       "564                 0.05623  ...          26.40           166.10      2027.0   \n",
       "565                 0.05533  ...          38.25           155.00      1731.0   \n",
       "566                 0.05648  ...          34.12           126.70      1124.0   \n",
       "567                 0.07016  ...          39.42           184.60      1821.0   \n",
       "568                 0.05884  ...          30.37            59.16       268.6   \n",
       "\n",
       "     worst smoothness  worst compactness  worst concavity  \\\n",
       "0             0.16220            0.66560           0.7119   \n",
       "1             0.12380            0.18660           0.2416   \n",
       "2             0.14440            0.42450           0.4504   \n",
       "3             0.20980            0.86630           0.6869   \n",
       "4             0.13740            0.20500           0.4000   \n",
       "..                ...                ...              ...   \n",
       "564           0.14100            0.21130           0.4107   \n",
       "565           0.11660            0.19220           0.3215   \n",
       "566           0.11390            0.30940           0.3403   \n",
       "567           0.16500            0.86810           0.9387   \n",
       "568           0.08996            0.06444           0.0000   \n",
       "\n",
       "     worst concave points  worst symmetry  worst fractal dimension  target  \n",
       "0                  0.2654          0.4601                  0.11890     0.0  \n",
       "1                  0.1860          0.2750                  0.08902     0.0  \n",
       "2                  0.2430          0.3613                  0.08758     0.0  \n",
       "3                  0.2575          0.6638                  0.17300     0.0  \n",
       "4                  0.1625          0.2364                  0.07678     0.0  \n",
       "..                    ...             ...                      ...     ...  \n",
       "564                0.2216          0.2060                  0.07115     0.0  \n",
       "565                0.1628          0.2572                  0.06637     0.0  \n",
       "566                0.1418          0.2218                  0.07820     0.0  \n",
       "567                0.2650          0.4087                  0.12400     0.0  \n",
       "568                0.0000          0.2871                  0.07039     1.0  \n",
       "\n",
       "[569 rows x 31 columns]"
      ]
     },
     "execution_count": 2,
     "metadata": {},
     "output_type": "execute_result"
    }
   ],
   "source": [
    "cancer_data = pd.read_csv(\"cancerData.csv\").drop([\"Unnamed: 0\"],axis=1)\n",
    "cancer_data"
   ]
  },
  {
   "cell_type": "code",
   "execution_count": 3,
   "metadata": {},
   "outputs": [],
   "source": [
    "X=cancer_data.iloc[:,:-1]\n",
    "#we normalize the data, since there is to big of a difference.\n",
    "from sklearn.preprocessing import StandardScaler\n",
    "scaler = StandardScaler()\n",
    "X_normalized = scaler.fit_transform(X)\n",
    "\n",
    "#Create a new dataframe X_normalized_df for the future work.\n",
    "X_normalized_df = pd.DataFrame(X_normalized, columns=X.columns)\n",
    "#one hot encode target 1 and 0.\n",
    "y = pd.get_dummies(cancer_data['target']).rename(columns={0.0:0,1.0:1})"
   ]
  },
  {
   "cell_type": "code",
   "execution_count": 4,
   "metadata": {},
   "outputs": [],
   "source": [
    "#separate our data into 80% training sample, and 20% test sample.\n",
    "X_train, X_test, y_train, y_test = train_test_split(X_normalized_df, y, test_size=0.2, random_state=42)"
   ]
  },
  {
   "cell_type": "code",
   "execution_count": 5,
   "metadata": {},
   "outputs": [
    {
     "data": {
      "text/plain": [
       "(455, 30)"
      ]
     },
     "execution_count": 5,
     "metadata": {},
     "output_type": "execute_result"
    }
   ],
   "source": [
    "X_train.shape"
   ]
  },
  {
   "cell_type": "code",
   "execution_count": 6,
   "metadata": {},
   "outputs": [
    {
     "data": {
      "text/plain": [
       "(114, 30)"
      ]
     },
     "execution_count": 6,
     "metadata": {},
     "output_type": "execute_result"
    }
   ],
   "source": [
    "X_test.shape"
   ]
  },
  {
   "cell_type": "code",
   "execution_count": 7,
   "metadata": {},
   "outputs": [
    {
     "data": {
      "text/plain": [
       "(455, 2)"
      ]
     },
     "execution_count": 7,
     "metadata": {},
     "output_type": "execute_result"
    }
   ],
   "source": [
    "y_train.shape"
   ]
  },
  {
   "cell_type": "code",
   "execution_count": 8,
   "metadata": {},
   "outputs": [
    {
     "data": {
      "text/plain": [
       "(114, 2)"
      ]
     },
     "execution_count": 8,
     "metadata": {},
     "output_type": "execute_result"
    }
   ],
   "source": [
    "y_test.shape"
   ]
  },
  {
   "cell_type": "code",
   "execution_count": 97,
   "metadata": {},
   "outputs": [],
   "source": [
    "class MultiLayerPerceptron():\n",
    "\n",
    "    def __init__(self,params):\n",
    "        self.ativacao = {\n",
    "         'sigmoid': (lambda x: 1/(1 + np.exp(-x))),\n",
    "            'tanh': (lambda x: np.tanh(x)),\n",
    "            'Relu': (lambda x: x*(x > 0)),\n",
    "         'softmax': (lambda x: np.exp(x) / np.sum(np.exp(x), axis=0) ),\n",
    "        'cross_entropy_cost': lambda y_hat, y: -np.sum(y * np.log(y_hat + 1e-9)) / y.shape[0],\n",
    "               }\n",
    "        self.derivada = {\n",
    "         'sigmoid': (lambda x: x*(1-x)),\n",
    "            'tanh': (lambda x: 1-x**2),\n",
    "            'Relu': (lambda x: 1 * (x>0)),\n",
    "         'softmax': (lambda x: np.exp(x - np.max(x))/np.exp(x - np.max(x)).sum() ),\n",
    "            'cross_entropy_cost': lambda y_hat, y: y_hat - y,\n",
    "               }\n",
    "        if (params == None):\n",
    "            self.inputLayer = 30                        # Input Layer neurons\n",
    "            self.hiddenLayer = 15                       # Hidden Layer neurons\n",
    "            self.outputLayer = 2                       # Outpuy Layer neurons\n",
    "            self.learningRate = 0.01                  # Learning rate\n",
    "            self.max_epochs = 600                      # Epochs\n",
    "            self.activation = self.ativacao['sigmoid'] # Activation function\n",
    "            self.deriv = self.derivada['sigmoid'] #derived function for the activation function\n",
    "        else:\n",
    "            self.inputLayer = params['InputLayer']\n",
    "            self.hiddenLayer = params['HiddenLayer']\n",
    "            self.OutputLayer = params['OutputLayer']\n",
    "            self.learningRate = params['LearningRate']\n",
    "            self.max_epochs = params['Epocas']\n",
    "            self.activation = self.ativacao[params['ActivationFunction']]\n",
    "            self.deriv = self.derivada[params['ActivationFunction']]\n",
    "            \n",
    "        #we initialize the weights with random values.\n",
    "        self.weights_Hidden_Input=self.set_weights(self.inputLayer,self.hiddenLayer)\n",
    "        self.weights_Output_hidden=self.set_weights(self.hiddenLayer,self.outputLayer)\n",
    "        \n",
    "        #we initialize the bias with random values.\n",
    "        self.bias_hidden_layer= self.set_bias(self.hiddenLayer)\n",
    "        self.bias_output_layer= self.set_bias(self.outputLayer)\n",
    "        \n",
    "        #those are the tables for the graphical representations later.\n",
    "        self.cost_array=[]\n",
    "        self.mean_error_per_epoch=[]\n",
    "        self.metrics=[]\n",
    "        \n",
    "        self.TP = self.TN = self.FP = self.FN = 0\n",
    "        \n",
    "        \n",
    "    def set_weights(self,layer1,layer2):\n",
    "        \"\"\"generate a random value based on the size of the hidden layer and the input layer.\"\"\"\n",
    "        return [[2  * random.random() - 1 for i in range(layer2)] for j in range(layer1)]\n",
    "    \n",
    "    def set_bias(self,layer):\n",
    "        return [2  * random.random() - 1 for i in range(layer)]\n",
    "    \n",
    "    \n",
    "    def feed_forward(self,X,y):\n",
    "        \"\"\"propagation vers l'avant\"\"\"\n",
    "        X=X.reshape(-1,1).T\n",
    "        y=y.reshape(-1,1).T\n",
    "        #input layer\n",
    "        z1 = X.dot(self.weights_Hidden_Input)+self.bias_hidden_layer\n",
    "        a1=self.activation(z1)\n",
    "        a1 = a1.reshape(-1, 1).T  # Reshape a1 to be a column vector\n",
    "        \n",
    "        #hidden layer\n",
    "        z2=a1.dot(self.weights_Output_hidden)+self.bias_output_layer\n",
    "        \n",
    "        #output layer\n",
    "        # sigmoid output activation function is the best for binary classification.\n",
    "        y_pred=self.ativacao['sigmoid'](z2)\n",
    "        #measure cost function (cross_entropy)\n",
    "        error=self.ativacao['cross_entropy_cost'](y_pred,y) \n",
    "        #error= y-y_pred\n",
    "        self.cost_array.append(error)\n",
    "        \n",
    "        \n",
    "        return error,a1,y_pred\n",
    "        \n",
    "    # Corrected backpropagation function\n",
    "    def backpropagation(self, X, y, a1, y_pred):\n",
    "        # Ensure X is a column vector\n",
    "        X = X.reshape(-1, 1)\n",
    "\n",
    "        # Error for the output layer\n",
    "        output_layer_error = y_pred - y\n",
    "\n",
    "        # Gradient for the output layer weights\n",
    "        gradient_output_weights = np.dot(a1.T, output_layer_error)\n",
    "\n",
    "        # Update weights and biases for the output layer\n",
    "        self.weights_Output_hidden -= self.learningRate * gradient_output_weights\n",
    "        self.bias_output_layer -= self.learningRate * np.sum(output_layer_error, axis=0)\n",
    "\n",
    "        # Error for the hidden layer\n",
    "        hidden_layer_error = np.dot(output_layer_error, self.weights_Output_hidden.T) * self.deriv(a1)\n",
    "\n",
    "        # Gradient for the hidden layer weights\n",
    "        d_weights_hidden = np.dot(X, hidden_layer_error)\n",
    "\n",
    "        # Update weights and biases for the hidden layer\n",
    "        self.weights_Hidden_Input -= self.learningRate * d_weights_hidden\n",
    "        self.bias_hidden_layer -= self.learningRate * np.sum(hidden_layer_error, axis=0)\n",
    "\n",
    "    # Corrected fit function\n",
    "    def fit(self, X_train, y_train):\n",
    "        for epoch in tqdm(range(self.max_epochs)):  # Iterating over epochs\n",
    "            for i in range(X_train.shape[0]):  # Iterating over samples\n",
    "                x = X_train.iloc[i].values  # Ensure x is a NumPy array\n",
    "                y = y_train.iloc[i].values  # Ensure y is a NumPy array\n",
    "                _, a1, y_pred = self.feed_forward(x, y)\n",
    "                self.backpropagation(x, y, a1, y_pred)\n",
    "            #we measure the mean error value per epoch for visualisation purposes.\n",
    "            self.mean_error_per_epoch.append(np.mean(self.cost_array))\n",
    "            #on clean le cost array pour l'epoch suivante.\n",
    "            self.cost_array.clear()\n",
    "\n",
    "    def evaluate_metrics(self, X_test, y_test):\n",
    "        \n",
    "        total_predictions = X_test.shape[0]\n",
    "\n",
    "        for i in range(total_predictions):\n",
    "            x = X_test.iloc[i].values  # Ensure x is a NumPy array\n",
    "            y = y_test.iloc[i].values  # Ensure y is a NumPy array\n",
    "\n",
    "            # Get the prediction from the model\n",
    "            _, _, y_pred = self.feed_forward(x, y)\n",
    "\n",
    "            # Convert y_pred to a binary classification (0 or 1)\n",
    "            predicted_class = np.argmax(y_pred)  # Choose the class with the highest probability\n",
    "\n",
    "            # Check if the prediction matches the actual class\n",
    "            actual_class = np.argmax(y)\n",
    "            if predicted_class == actual_class:\n",
    "                #it was an accurate prediction.\n",
    "                if predicted_class==0:\n",
    "                    #it was a true positive\n",
    "                    self.TP+=1\n",
    "                elif predicted_class==1:\n",
    "                    #it was a true negatif\n",
    "                    self.TN+=1\n",
    "            else: #the prediction was wrong, and it was \n",
    "                if predicted_class==0:\n",
    "                    #it was a False positive\n",
    "                    self.FP+=1\n",
    "                elif predicted_class==1:\n",
    "                    #it was a False negatif\n",
    "                    self.FN+=1\n",
    "                \n",
    "        # Calculate the accuracy\n",
    "        accuracy = (self.TP+self.TN) / total_predictions\n",
    "        y_p =y_n =0\n",
    "        for i in range(total_predictions):\n",
    "            label = y_test.iloc[i].values  # Get the label as an array\n",
    "            if label[0] == 1:\n",
    "                y_p += 1\n",
    "            elif label[1] == 1:\n",
    "                y_n += 1\n",
    "        self.TP_accuracy=self.TP/y_p\n",
    "        self.TN_accuracy=self.TN/y_n\n",
    "        \n",
    "        #calculate precision\n",
    "        precision=self.TP/(self.TP+self.FP)\n",
    "        \n",
    "        #calculate recall\n",
    "        recall = self.TP/(self.TP+self.FN)\n",
    "        #calculate f1_score\n",
    "        f1_score= 2*((precision*recall)/(precision+recall))\n",
    "        #calculate specificity\n",
    "        specificity=self.TN/(self.TN+self.FP)\n",
    "        \n",
    "        self.metrics=[accuracy,precision,recall,f1_score,specificity,self.TP_accuracy,self.TN_accuracy]\n",
    "        \n",
    "        return self.metrics\n",
    "    \n",
    "    def plot_loss(self):\n",
    "            plt.plot(self.mean_error_per_epoch)\n",
    "            plt.title('Mean loss Over Epochs')\n",
    "            plt.ylabel('Loss')\n",
    "            plt.xlabel('Epoch')\n",
    "            plt.show()\n",
    "            \n",
    "    def plot_scores_by_TP_TN(self, X_test, y_test):        \n",
    "        TP_accuracy = self.metrics[5]\n",
    "        TN_accuracy = self.metrics[6]\n",
    "        print(f\"- Accuracy 0: {round(TP_accuracy * 100, 2)}%\")\n",
    "        print(f\"- Accuracy 1: {round(TN_accuracy * 100, 2)}%\")\n",
    "\n",
    "        fig, ax = plt.subplots()\n",
    "        r1 = plt.bar('0', TP_accuracy, color='red', label='0')\n",
    "        r2 = plt.bar('1', TN_accuracy, color='green', label='1')\n",
    "\n",
    "        plt.ylabel('Scores %')\n",
    "        plt.title('Scores by groups - Multilayer Perceptron')\n",
    "        plt.show()\n",
    "\n",
    "        \n",
    "    def plot_auc(self):\n",
    "        pass\n"
   ]
  },
  {
   "cell_type": "code",
   "execution_count": 98,
   "metadata": {},
   "outputs": [
    {
     "name": "stderr",
     "output_type": "stream",
     "text": [
      "100%|████████████████████████████████████████████████████████████████████████████████| 600/600 [01:14<00:00,  8.04it/s]\n"
     ]
    }
   ],
   "source": [
    "model=MultiLayerPerceptron(None)\n",
    "model.fit(X_train,y_train)"
   ]
  },
  {
   "cell_type": "code",
   "execution_count": 99,
   "metadata": {},
   "outputs": [
    {
     "name": "stdout",
     "output_type": "stream",
     "text": [
      "Accuracy on test set: 0.956140350877193\n",
      "Precision on test set: 0.9130434782608695\n",
      "Recall on test set: 0.9767441860465116\n",
      "F1 score on test set: 0.9438202247191011\n",
      "Specificity on test set: 0.9436619718309859\n"
     ]
    }
   ],
   "source": [
    "evaluation_metrics = model.evaluate_metrics(X_test, y_test)\n",
    "accuracy=evaluation_metrics[0]\n",
    "precision=evaluation_metrics[1]\n",
    "recall=evaluation_metrics[2]\n",
    "f1_score=evaluation_metrics[3]\n",
    "specificity=evaluation_metrics[4]\n",
    "print(\"Accuracy on test set:\", accuracy)\n",
    "print(\"Precision on test set:\", precision)\n",
    "print(\"Recall on test set:\", recall)\n",
    "print(\"F1 score on test set:\", f1_score)\n",
    "print(\"Specificity on test set:\", specificity)"
   ]
  },
  {
   "cell_type": "code",
   "execution_count": 100,
   "metadata": {},
   "outputs": [
    {
     "name": "stdout",
     "output_type": "stream",
     "text": [
      "The model demonstrates excellent performance in classifying the test data. With an accuracy of 95.61%, it correctly predicts the vast majority of cases. The precision of 91.3% indicates that most in case the model predicts as positive is indeed positive, showing almost no false positives.The recall of 97.67% suggests that the model successfully identifies most of the actual positive cases. The F1 score, which balances precision and recall, is also high at 94.38%, reflecting the model's overall effectiveness. Additionally, a specificity of 94.37% means almost all negative cases are accurately identified. These results indicate a highly reliable and effective model for this classification task\n"
     ]
    }
   ],
   "source": [
    "print(f\"The model demonstrates excellent performance in classifying the test data. With an accuracy of {round(accuracy*100,2)}%, it correctly predicts the vast majority of cases. The precision of {round(precision*100,2)}% indicates that most in case the model predicts as positive is indeed positive, showing almost no false positives.The recall of {round(recall*100,2)}% suggests that the model successfully identifies most of the actual positive cases. The F1 score, which balances precision and recall, is also high at {round(f1_score*100,2)}%, reflecting the model's overall effectiveness. Additionally, a specificity of {round(specificity*100,2)}% means almost all negative cases are accurately identified. These results indicate a highly reliable and effective model for this classification task\")"
   ]
  },
  {
   "cell_type": "code",
   "execution_count": 101,
   "metadata": {},
   "outputs": [
    {
     "data": {
      "image/png": "[encoded data removed]",
      "text/plain": [
       "<Figure size 432x288 with 1 Axes>"
      ]
     },
     "metadata": {
      "image/png": {
       "height": 299,
       "width": 405
      },
      "needs_background": "light"
     },
     "output_type": "display_data"
    }
   ],
   "source": [
    "model.plot_loss()"
   ]
  },
  {
   "cell_type": "code",
   "execution_count": 102,
   "metadata": {},
   "outputs": [
    {
     "name": "stdout",
     "output_type": "stream",
     "text": [
      "- Accuracy 0: 97.67%\n",
      "- Accuracy 1: 94.37%\n"
     ]
    },
    {
     "data": {
      "image/png": "[encoded data removed]",
      "text/plain": [
       "<Figure size 432x288 with 1 Axes>"
      ]
     },
     "metadata": {
      "image/png": {
       "height": 278,
       "width": 405
      },
      "needs_background": "light"
     },
     "output_type": "display_data"
    }
   ],
   "source": [
    "model.plot_scores_by_TP_TN(X_test,y_test)"
   ]
  },
  {
   "cell_type": "markdown",
   "metadata": {},
   "source": [
    "# Best parameter evaluation"
   ]
  },
  {
   "cell_type": "code",
   "execution_count": 96,
   "metadata": {},
   "outputs": [],
   "source": [
    "params={\n",
    "    'InputLayer': [30],\n",
    "    'HiddenLayer': [5,10,15,20,30],\n",
    "    'OutputLayer': [2],\n",
    "    'LearningRate': [0.1,0.01,0.001],\n",
    "    'Epocas': [300,600,900],\n",
    "    'ActivationFunction': ['sigmoid','tanh','Relu','softmax','cross_entropy_cost']    \n",
    "}\n",
    "\n"
   ]
  },
  {
   "cell_type": "code",
   "execution_count": null,
   "metadata": {},
   "outputs": [],
   "source": []
  },
  {
   "cell_type": "code",
   "execution_count": null,
   "metadata": {},
   "outputs": [],
   "source": []
  },
  {
   "cell_type": "code",
   "execution_count": null,
   "metadata": {},
   "outputs": [],
   "source": []
  },
  {
   "cell_type": "code",
   "execution_count": null,
   "metadata": {},
   "outputs": [],
   "source": []
  },
  {
   "cell_type": "code",
   "execution_count": null,
   "metadata": {},
   "outputs": [],
   "source": []
  },
  {
   "cell_type": "code",
   "execution_count": null,
   "metadata": {},
   "outputs": [],
   "source": []
  },
  {
   "cell_type": "code",
   "execution_count": null,
   "metadata": {},
   "outputs": [],
   "source": []
  },
  {
   "cell_type": "code",
   "execution_count": null,
   "metadata": {},
   "outputs": [],
   "source": []
  },
  {
   "cell_type": "code",
   "execution_count": null,
   "metadata": {},
   "outputs": [],
   "source": []
  },
  {
   "cell_type": "code",
   "execution_count": null,
   "metadata": {},
   "outputs": [],
   "source": []
  }
 ],
 "metadata": {
  "colab": {
   "provenance": []
  },
  "kernelspec": {
   "display_name": "Python 3",
   "language": "python",
   "name": "python3"
  },
  "language_info": {
   "codemirror_mode": {
    "name": "ipython",
    "version": 3
   },
   "file_extension": ".py",
   "mimetype": "text/x-python",
   "name": "python",
   "nbconvert_exporter": "python",
   "pygments_lexer": "ipython3",
   "version": "3.6.10"
  }
 },
 "nbformat": 4,
 "nbformat_minor": 1
}
